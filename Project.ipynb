{
 "cells": [
  {
   "cell_type": "code",
   "execution_count": 2,
   "metadata": {
    "ExecuteTime": {
     "end_time": "2024-02-26T22:07:47.770154Z",
     "start_time": "2024-02-26T22:07:47.518291Z"
    }
   },
   "outputs": [
    {
     "name": "stderr",
     "output_type": "stream",
     "text": [
      "/tmp/ipykernel_19192/3034648826.py:2: DeprecationWarning: \n",
      "Pyarrow will become a required dependency of pandas in the next major release of pandas (pandas 3.0),\n",
      "(to allow more performant data types, such as the Arrow string type, and better interoperability with other libraries)\n",
      "but was not found to be installed on your system.\n",
      "If this would cause problems for you,\n",
      "please provide us feedback at https://github.com/pandas-dev/pandas/issues/54466\n",
      "        \n",
      "  import pandas as pd\n"
     ]
    }
   ],
   "source": [
    "from pathlib import Path\n",
    "import pandas as pd\n",
    "import numpy as np\n",
    "\n",
    "path = \"./Measurement Data\""
   ]
  },
  {
   "cell_type": "markdown",
   "metadata": {},
   "source": [
    "# Project\n",
    "\n",
    "## 1. Merge every trip dataset into a global one"
   ]
  },
  {
   "cell_type": "code",
   "execution_count": 3,
   "metadata": {
    "ExecuteTime": {
     "end_time": "2024-02-26T22:07:47.774012Z",
     "start_time": "2024-02-26T22:07:47.771286Z"
    }
   },
   "outputs": [],
   "source": [
    "files = Path(path).rglob(\"*.csv\")"
   ]
  },
  {
   "cell_type": "code",
   "execution_count": 4,
   "metadata": {
    "ExecuteTime": {
     "end_time": "2024-02-26T22:07:47.786042Z",
     "start_time": "2024-02-26T22:07:47.775084Z"
    }
   },
   "outputs": [],
   "source": [
    "def rename_columns(df):\n",
    "\n",
    "    # New column names\n",
    "    new_columns = {\n",
    "        'Time [s]': 'time_s',\n",
    "        'Velocity [km/h]': 'velocity_km_h',\n",
    "        'Velocity [km/h]]]': 'velocity_km_h',\n",
    "        'Elevation [m]': 'elevation_m',\n",
    "        'Throttle [%]': 'throttle_percent',\n",
    "        'Motor Torque [Nm]': 'motor_torque_nm',\n",
    "        'Longitudinal Acceleration [m/s^2]': 'longitudinal_acceleration_m_s2',\n",
    "        'Regenerative Braking Signal ': 'regenerative_braking_signal',\n",
    "        'Battery Voltage [V]': 'battery_voltage_v',\n",
    "        'Battery Current [A]': 'battery_current_a',\n",
    "        'Battery Temperature [°C]': 'battery_temperature_c',\n",
    "        'max. Battery Temperature [°C]': 'max_battery_temperature_c',\n",
    "        'SoC [%]': 'soc_percent',\n",
    "        'displayed SoC [%]': 'displayed_soc_percent',\n",
    "        'min. SoC [%]': 'min_soc_percent',\n",
    "        'max. SoC [%)': 'max_soc_percent',\n",
    "        'Heating Power CAN [kW]': 'heating_power_can_kw',\n",
    "        'Heating Power LIN [W]': 'heating_power_lin_w',\n",
    "        'Requested Heating Power [W]': 'requested_heating_power_w',\n",
    "        'AirCon Power [kW]': 'aircon_power_kw',\n",
    "        'Heater Signal': 'heater_signal',\n",
    "        'Heater Voltage [V]': 'heater_voltage_v',\n",
    "        'Heater Current [A]': 'heater_current_a',\n",
    "        'Ambient Temperature [°C]': 'ambient_temperature_c',\n",
    "        'Coolant Temperature Heatercore [°C]': 'coolant_temperature_heatercore_c',\n",
    "        'Requested Coolant Temperature [°C]': 'requested_coolant_temperature_c',\n",
    "        'Coolant Temperature Inlet [°C]': 'coolant_temperature_inlet_c',\n",
    "        'Heat Exchanger Temperature [°C]': 'heat_exchanger_temperature_c',\n",
    "        'Cabin Temperature Sensor [°C]': 'cabin_temperature_sensor_c',\n",
    "        'Ambient Temperature Sensor [°C]': 'ambient_temperature_sensor_c',\n",
    "        'Coolant Volume Flow +500 [l/h]': 'coolant_volume_flow_plus_500_l_h',\n",
    "        'Temperature Coolant Heater Inlet [°C]': 'temperature_coolant_heater_inlet_c',\n",
    "        'Temperature Coolant Heater Outlet [°C]': 'temperature_coolant_heater_outlet_c',\n",
    "        'Temperature Heat Exchanger Outlet [°C]': 'temperature_heat_exchanger_outlet_c',\n",
    "        'Temperature Defrost lateral left [°C]': 'temperature_defrost_lateral_left_c',\n",
    "        'Temperature Defrost lateral right [°C]': 'temperature_defrost_lateral_right_c',\n",
    "        'Temperature Defrost central [°C]': 'temperature_defrost_central_c',\n",
    "        'Temperature Defrost central left [°C]': 'temperature_defrost_central_left_c',\n",
    "        'Temperature Defrost central right [°C]': 'temperature_defrost_central_right_c',\n",
    "        'Temperature Footweel Driver [°C]': 'temperature_footweel_driver_c',\n",
    "        'Temperature Footweel Co-Driver [°C]': 'temperature_footweel_co_driver_c',\n",
    "        'Temperature Feetvent Co-Driver [°C]': 'temperature_feetvent_co_driver_c',\n",
    "        'Temperature Feetvent Driver [°C]': 'temperature_feetvent_driver_c',\n",
    "        'Temperature Head Co-Driver [°C]': 'temperature_head_co_driver_c',\n",
    "        'Temperature Head Driver [°C]': 'temperature_head_driver_c',\n",
    "        'Temperature Vent right [°C] ': 'temperature_vent_right_c_1',\n",
    "        'Temperature Vent right [°C]': 'temperature_vent_right_c_2',\n",
    "        'Temperature Vent central right [°C]': 'temperature_vent_central_right_c',\n",
    "        'Temperature Vent central left [°C]': 'temperature_vent_central_left_c',\n",
    "    }\n",
    "\n",
    "    # Rename columns\n",
    "    df.rename(columns=new_columns, inplace=True)\n",
    "\n",
    "    # Drop useless columns\n",
    "    df = df.loc[:, ~df.columns.str.contains('^Unnamed')]\n",
    "\n",
    "    return df"
   ]
  },
  {
   "cell_type": "code",
   "execution_count": 5,
   "metadata": {
    "ExecuteTime": {
     "end_time": "2024-02-26T22:07:49.900882Z",
     "start_time": "2024-02-26T22:07:47.787830Z"
    }
   },
   "outputs": [
    {
     "name": "stdout",
     "output_type": "stream",
     "text": [
      "Measurement Data/TripA32.csv  Importing...\n",
      "Measurement Data/TripB02.csv  Importing...\n",
      "Measurement Data/TripA10.csv  Importing...\n",
      "Measurement Data/TripA23.csv  Importing...\n",
      "Measurement Data/TripB24.csv  Importing...\n",
      "Measurement Data/TripB38.csv  Importing...\n",
      "Measurement Data/TripB12.csv  Importing...\n",
      "Measurement Data/TripB21.csv  Importing...\n",
      "Measurement Data/TripB19.csv  Importing...\n",
      "Measurement Data/TripA12.csv  Importing...\n",
      "Measurement Data/TripB20.csv  Importing...\n",
      "Measurement Data/TripA17.csv  Importing...\n",
      "Measurement Data/TripA13.csv  Importing...\n",
      "Measurement Data/TripA27.csv  Importing...\n",
      "Measurement Data/TripA29.csv  Importing...\n",
      "Measurement Data/TripB32.csv  Importing...\n",
      "Measurement Data/TripB13.csv  Importing...\n",
      "Measurement Data/TripB09.csv  Importing...\n",
      "Measurement Data/TripB10.csv  Importing...\n",
      "Measurement Data/TripB26.csv  Importing...\n",
      "Measurement Data/TripB11.csv  Importing...\n",
      "Measurement Data/TripB17.csv  Importing...\n",
      "Measurement Data/TripA31.csv  Importing...\n",
      "Measurement Data/TripB35.csv  Importing...\n",
      "Measurement Data/TripA20.csv  Importing...\n",
      "Measurement Data/TripB36.csv  Importing...\n",
      "Measurement Data/TripB28.csv  Importing...\n",
      "Measurement Data/TripB30.csv  Importing...\n",
      "Measurement Data/TripA04.csv  Importing...\n",
      "Measurement Data/TripB15.csv  Importing...\n",
      "Measurement Data/TripA14.csv  Importing...\n",
      "Measurement Data/TripB14.csv  Importing...\n",
      "Measurement Data/TripA25.csv  Importing...\n",
      "Measurement Data/TripA11.csv  Importing...\n",
      "Measurement Data/TripB29.csv  Importing...\n",
      "Measurement Data/TripB06.csv  Importing...\n",
      "Measurement Data/TripB22.csv  Importing...\n",
      "Measurement Data/TripB03.csv  Importing...\n",
      "Measurement Data/TripA06.csv  Importing...\n",
      "Measurement Data/TripA30.csv  Importing...\n",
      "Measurement Data/TripA07.csv  Importing...\n",
      "Measurement Data/TripB37.csv  Importing...\n",
      "Measurement Data/TripA21.csv  Importing...\n",
      "Measurement Data/TripB16.csv  Importing...\n",
      "Measurement Data/TripA08.csv  Importing...\n",
      "Measurement Data/TripB01.csv  Importing...\n",
      "Measurement Data/TripB08.csv  Importing...\n",
      "Measurement Data/TripA03.csv  Importing...\n",
      "Measurement Data/TripB31.csv  Importing...\n",
      "Measurement Data/TripA18.csv  Importing...\n",
      "Measurement Data/TripA15.csv  Importing...\n",
      "Measurement Data/TripA16.csv  Importing...\n",
      "Measurement Data/TripB33.csv  Importing...\n",
      "Measurement Data/TripB27.csv  Importing...\n",
      "Measurement Data/TripA24.csv  Importing...\n",
      "Measurement Data/TripB25.csv  Importing...\n",
      "Measurement Data/TripB07.csv  Importing...\n",
      "Measurement Data/TripA26.csv  Importing...\n",
      "Measurement Data/TripA09.csv  Importing...\n",
      "Measurement Data/TripA22.csv  Importing...\n",
      "Measurement Data/TripA05.csv  Importing...\n",
      "Measurement Data/TripA19.csv  Importing...\n",
      "Measurement Data/TripA28.csv  Importing...\n",
      "Measurement Data/TripA02.csv  Importing...\n",
      "Measurement Data/TripB23.csv  Importing...\n",
      "Measurement Data/TripB18.csv  Importing...\n",
      "Measurement Data/TripB05.csv  Importing...\n",
      "Measurement Data/TripB34.csv  Importing...\n",
      "Measurement Data/TripB04.csv  Importing...\n",
      "Measurement Data/TripA01.csv  Importing...\n"
     ]
    }
   ],
   "source": [
    "dfs = list()\n",
    "\n",
    "# Process each file\n",
    "for file in files:\n",
    "    print(file, \" Importing...\")\n",
    "    data = pd.read_csv(file, encoding='ISO-8859-13', delimiter=';')\n",
    "    data['trip_file_name'] = file.stem\n",
    "    data = rename_columns(data)\n",
    "    dfs.append(data)\n",
    "\n",
    "# Concatenate all dataframes\n",
    "df = pd.concat(dfs, ignore_index=True)"
   ]
  },
  {
   "cell_type": "code",
   "execution_count": 6,
   "metadata": {
    "ExecuteTime": {
     "end_time": "2024-02-26T22:08:03.101168Z",
     "start_time": "2024-02-26T22:07:49.902424Z"
    }
   },
   "outputs": [],
   "source": [
    "# Enregistrer le fichier\n",
    "df.to_csv('01_Mergerd.csv', index=False)"
   ]
  },
  {
   "cell_type": "markdown",
   "metadata": {},
   "source": [
    "## 2. Extracting data from the travel_name column\n",
    "The travel_name column contains informations about the trip. We will extract the following information:\n",
    "  - The trip season (A: Summer, B: Winter)\n",
    "  - The trip identification number"
   ]
  },
  {
   "cell_type": "code",
   "execution_count": 7,
   "metadata": {
    "ExecuteTime": {
     "end_time": "2024-02-26T22:08:03.448297Z",
     "start_time": "2024-02-26T22:08:03.102543Z"
    }
   },
   "outputs": [],
   "source": [
    "df['trip_season'] = np.where(df['trip_file_name'].str.contains('A'), 'summer', 'winter')\n",
    "\n",
    "# print(df['trip_season'].value_counts())\n",
    "\n",
    "df['trip_id'] = df['trip_file_name'].str.removeprefix('Trip')\n",
    "\n",
    "# print(df['trip_id'].value_counts())"
   ]
  },
  {
   "cell_type": "markdown",
   "metadata": {},
   "source": [
    "## 3. Handling missing data\n",
    "> The measurement data are divided into two categories. Category A was recorded in summer and does not contain all measured data due to trouble with the measurement system.  Category B was recorded in winter and is consistent. "
   ]
  },
  {
   "cell_type": "code",
   "execution_count": 8,
   "metadata": {
    "ExecuteTime": {
     "end_time": "2024-02-26T22:08:03.688630Z",
     "start_time": "2024-02-26T22:08:03.449291Z"
    }
   },
   "outputs": [
    {
     "name": "stdout",
     "output_type": "stream",
     "text": [
      "requested_coolant_temperature_c         19829\n",
      "soc_percent                             30793\n",
      "min_soc_percent                         30793\n",
      "displayed_soc_percent                   30794\n",
      "max_soc_percent                         30794\n",
      "coolant_temperature_inlet_c            310587\n",
      "heater_current_a                       310587\n",
      "heater_voltage_v                       310587\n",
      "heating_power_lin_w                    310587\n",
      "coolant_temperature_heatercore_c       310587\n",
      "temperature_vent_right_c_2             472340\n",
      "temperature_vent_central_left_c        472340\n",
      "temperature_vent_central_right_c       472340\n",
      "temperature_vent_right_c_1             472340\n",
      "temperature_head_driver_c              472340\n",
      "temperature_head_co_driver_c           472340\n",
      "temperature_feetvent_driver_c          472340\n",
      "temperature_feetvent_co_driver_c       472340\n",
      "temperature_footweel_co_driver_c       472340\n",
      "temperature_defrost_central_right_c    472340\n",
      "temperature_defrost_central_left_c     472340\n",
      "temperature_defrost_central_c          472340\n",
      "temperature_defrost_lateral_right_c    472340\n",
      "temperature_defrost_lateral_left_c     472340\n",
      "temperature_heat_exchanger_outlet_c    472340\n",
      "temperature_coolant_heater_outlet_c    472340\n",
      "temperature_coolant_heater_inlet_c     472340\n",
      "ambient_temperature_sensor_c           472340\n",
      "temperature_footweel_driver_c          472340\n",
      "coolant_volume_flow_plus_500_l_h       496034\n",
      "dtype: int64\n"
     ]
    }
   ],
   "source": [
    "print(df.isnull().sum().sort_values()[df.isnull().sum() > 0])"
   ]
  },
  {
   "cell_type": "markdown",
   "metadata": {},
   "source": [
    "We can choose to:\n",
    "  - Drop columns with missing data\n",
    "  - Drop rows with missing data\n",
    "  - Fill missing data with statistical methods (mean, median, mode, etc.)\n",
    "\n",
    "Drop rows is not a good idea because we will lose a lot of data (all the summer data).\n",
    "\n",
    "The missing data for the \"summer\" trips are mostly precisions about temperatures for the cabin. We can fill them with the global values or forget them and focus on the global cabin data.\n",
    "\n",
    "---\n",
    "### State of Charge (SoC) missing data\n",
    "**For the folowing columns :**\n",
    "- soc_percent\n",
    "- min_soc_percent\n",
    "- displayed_soc_percent\n",
    "- max_soc_percent\n",
    "\n",
    "The missing value occurs only for the first and last occurence of each trip (start and end of the trip). We can fill them with the next (for the first occurence) or previous (for the last occurence) value because we can assume that the SoC (State of Charge) doesn't change during the first and last 0.1s of the trip."
   ]
  },
  {
   "cell_type": "code",
   "execution_count": 9,
   "metadata": {
    "ExecuteTime": {
     "end_time": "2024-02-26T22:08:04.114234Z",
     "start_time": "2024-02-26T22:08:03.689457Z"
    }
   },
   "outputs": [
    {
     "name": "stdout",
     "output_type": "stream",
     "text": [
      "requested_coolant_temperature_c         19829\n",
      "coolant_temperature_inlet_c            310587\n",
      "heater_current_a                       310587\n",
      "heater_voltage_v                       310587\n",
      "heating_power_lin_w                    310587\n",
      "coolant_temperature_heatercore_c       310587\n",
      "temperature_vent_right_c_2             472340\n",
      "temperature_vent_central_left_c        472340\n",
      "temperature_vent_central_right_c       472340\n",
      "temperature_vent_right_c_1             472340\n",
      "temperature_head_driver_c              472340\n",
      "temperature_head_co_driver_c           472340\n",
      "temperature_feetvent_driver_c          472340\n",
      "temperature_feetvent_co_driver_c       472340\n",
      "temperature_footweel_co_driver_c       472340\n",
      "temperature_defrost_central_right_c    472340\n",
      "temperature_defrost_central_left_c     472340\n",
      "temperature_defrost_central_c          472340\n",
      "temperature_defrost_lateral_right_c    472340\n",
      "temperature_defrost_lateral_left_c     472340\n",
      "temperature_heat_exchanger_outlet_c    472340\n",
      "temperature_coolant_heater_outlet_c    472340\n",
      "ambient_temperature_sensor_c           472340\n",
      "temperature_footweel_driver_c          472340\n",
      "temperature_coolant_heater_inlet_c     472340\n",
      "coolant_volume_flow_plus_500_l_h       496034\n",
      "dtype: int64\n"
     ]
    }
   ],
   "source": [
    "# For each trip, fill missing values (for theses columns) with the previous (if exists) or next (if exists) value.\n",
    "\n",
    "df['soc_percent'] = df.groupby('trip_id')['soc_percent'].ffill().bfill()\n",
    "df['min_soc_percent'] = df.groupby('trip_id')['min_soc_percent'].ffill().bfill()\n",
    "df['displayed_soc_percent'] = df.groupby('trip_id')['displayed_soc_percent'].ffill().bfill()\n",
    "df['max_soc_percent'] = df.groupby('trip_id')['max_soc_percent'].ffill().bfill()\n",
    "\n",
    "print(df.isnull().sum().sort_values()[df.isnull().sum() > 0])"
   ]
  },
  {
   "cell_type": "markdown",
   "metadata": {},
   "source": [
    "----\n",
    "### Cabin temperature missing data\n",
    "For the cabin temperatures, we choose to drop the columns because, all these precisions are not relevant for the analysis of the trips. We will focus on the global cabin temperature."
   ]
  },
  {
   "cell_type": "code",
   "execution_count": 10,
   "metadata": {
    "ExecuteTime": {
     "end_time": "2024-02-26T22:08:04.452762Z",
     "start_time": "2024-02-26T22:08:04.115378Z"
    }
   },
   "outputs": [
    {
     "name": "stdout",
     "output_type": "stream",
     "text": [
      "requested_coolant_temperature_c         19829\n",
      "heater_voltage_v                       310587\n",
      "heater_current_a                       310587\n",
      "coolant_temperature_heatercore_c       310587\n",
      "coolant_temperature_inlet_c            310587\n",
      "heating_power_lin_w                    310587\n",
      "ambient_temperature_sensor_c           472340\n",
      "temperature_coolant_heater_inlet_c     472340\n",
      "temperature_coolant_heater_outlet_c    472340\n",
      "temperature_heat_exchanger_outlet_c    472340\n",
      "coolant_volume_flow_plus_500_l_h       496034\n",
      "dtype: int64\n"
     ]
    }
   ],
   "source": [
    "columns_to_drop = [\n",
    "    'temperature_vent_right_c_1',\n",
    "    'temperature_vent_right_c_2',\n",
    "    'temperature_vent_central_left_c',\n",
    "    'temperature_vent_central_right_c',\n",
    "    'temperature_head_driver_c',\n",
    "    'temperature_head_co_driver_c',\n",
    "    'temperature_feetvent_driver_c',\n",
    "    'temperature_feetvent_co_driver_c',\n",
    "    'temperature_footweel_driver_c',\n",
    "    'temperature_footweel_co_driver_c',\n",
    "    'temperature_defrost_central_right_c',\n",
    "    'temperature_defrost_central_left_c',\n",
    "    'temperature_defrost_central_c',\n",
    "    'temperature_defrost_lateral_right_c',\n",
    "    'temperature_defrost_lateral_left_c'\n",
    "]\n",
    "\n",
    "df.drop(columns=columns_to_drop, inplace=True)\n",
    "\n",
    "print(df.isnull().sum().sort_values()[df.isnull().sum() > 0])"
   ]
  },
  {
   "cell_type": "markdown",
   "metadata": {},
   "source": [
    "----\n",
    "### Heating/A.C. missing data\n",
    "For the heater data (current, voltage), we choose to use the mean value for the voltage, and calculate the current with the formula: P = U * I, where P is the power (\"heating_power_can_kw\"), U the voltage and I the current. We can calculate the current with the formula: I = P / U."
   ]
  },
  {
   "cell_type": "code",
   "execution_count": 11,
   "metadata": {},
   "outputs": [
    {
     "name": "stdout",
     "output_type": "stream",
     "text": [
      "requested_coolant_temperature_c         19829\n",
      "coolant_temperature_heatercore_c       310587\n",
      "coolant_temperature_inlet_c            310587\n",
      "heating_power_lin_w                    310587\n",
      "ambient_temperature_sensor_c           472340\n",
      "temperature_coolant_heater_inlet_c     472340\n",
      "temperature_coolant_heater_outlet_c    472340\n",
      "temperature_heat_exchanger_outlet_c    472340\n",
      "coolant_volume_flow_plus_500_l_h       496034\n",
      "dtype: int64\n"
     ]
    }
   ],
   "source": [
    "# fill missing values with the mean of the column, for the same season\n",
    "df['heater_voltage_v'] = df['heater_voltage_v'].fillna(df.groupby('trip_season')['heater_voltage_v'].transform('mean'))\n",
    "\n",
    "# use I=P/U to calculate the missing values of the heater_current_a\n",
    "df['heater_current_a'] = df['heater_current_a'].fillna((df['heating_power_can_kw'] * 1000) / df['heater_voltage_v'])\n",
    "\n",
    "print(df.isnull().sum().sort_values()[df.isnull().sum() > 0])"
   ]
  },
  {
   "cell_type": "markdown",
   "metadata": {},
   "source": [
    "For the **heating_power_lin_w**, we already have the heating_power_can_kW that is consistent. We can drop the heating_power_lin_w column."
   ]
  },
  {
   "cell_type": "code",
   "execution_count": 12,
   "metadata": {},
   "outputs": [],
   "source": [
    "df.drop(columns=[\"heating_power_lin_w\"], inplace=True)"
   ]
  },
  {
   "cell_type": "markdown",
   "metadata": {},
   "source": [
    "For the **requested_coolant_temperature**, we can't find correlations with other columns, and don't vary during the trips (always at 0, 85 or 215). We think that this column is not relevant for the analysis of the trips. We will drop it."
   ]
  },
  {
   "cell_type": "code",
   "execution_count": 13,
   "metadata": {},
   "outputs": [],
   "source": [
    "df.drop(columns=[\"requested_coolant_temperature_c\"], inplace=True)"
   ]
  },
  {
   "cell_type": "markdown",
   "metadata": {},
   "source": [
    "For **ambiant_temperature_sensor_c**, a column named `ambient_temperature_c` and it's consistent. We can drop the `ambiant_temperature_sensor_c` column.\n",
    "\n",
    "For **coolant_temperature_heatercore_c**, **coolant_temperature_inlet_c**, **temperature_coolant_heater_inlet_c**, **temperature_coolant_heater_outlet_c**, **temperature_heat_exchanger_outlet_c**, **coolant_volume_flow_plus_500_l_h**, we can drop them because we have the `heat_exchanger_temperature_c` column that is consistent and sufficient for our analysis of the trips. We will rename it to `coolant_temperature_c`."
   ]
  },
  {
   "cell_type": "code",
   "execution_count": 14,
   "metadata": {},
   "outputs": [],
   "source": [
    "columns_to_drop = [\n",
    "    \"ambient_temperature_sensor_c\",\n",
    "    \"coolant_temperature_heatercore_c\",\n",
    "    \"coolant_temperature_inlet_c\",\n",
    "    \"temperature_coolant_heater_inlet_c\",\n",
    "    \"temperature_coolant_heater_outlet_c\",\n",
    "    \"temperature_heat_exchanger_outlet_c\",\n",
    "    \"coolant_volume_flow_plus_500_l_h\"\n",
    "]\n",
    "\n",
    "df.drop(columns=columns_to_drop, inplace=True)"
   ]
  },
  {
   "cell_type": "code",
   "execution_count": 15,
   "metadata": {},
   "outputs": [],
   "source": [
    "# Enregistrer le fichier\n",
    "df.to_csv('02_Cleaned.csv', index=False)"
   ]
  },
  {
   "cell_type": "markdown",
   "metadata": {},
   "source": [
    "# 4.Exploratory data analysis"
   ]
  },
  {
   "cell_type": "code",
   "execution_count": 16,
   "metadata": {},
   "outputs": [],
   "source": [
    "import pandas as pd\n",
    "import seaborn as sns\n",
    "import matplotlib.pyplot as plt"
   ]
  },
  {
   "cell_type": "code",
   "execution_count": 17,
   "metadata": {},
   "outputs": [
    {
     "data": {
      "text/html": [
       "<div>\n",
       "<style scoped>\n",
       "    .dataframe tbody tr th:only-of-type {\n",
       "        vertical-align: middle;\n",
       "    }\n",
       "\n",
       "    .dataframe tbody tr th {\n",
       "        vertical-align: top;\n",
       "    }\n",
       "\n",
       "    .dataframe thead th {\n",
       "        text-align: right;\n",
       "    }\n",
       "</style>\n",
       "<table border=\"1\" class=\"dataframe\">\n",
       "  <thead>\n",
       "    <tr style=\"text-align: right;\">\n",
       "      <th></th>\n",
       "      <th>time_s</th>\n",
       "      <th>velocity_km_h</th>\n",
       "      <th>elevation_m</th>\n",
       "      <th>throttle_percent</th>\n",
       "      <th>motor_torque_nm</th>\n",
       "      <th>longitudinal_acceleration_m_s2</th>\n",
       "      <th>regenerative_braking_signal</th>\n",
       "      <th>battery_voltage_v</th>\n",
       "      <th>battery_current_a</th>\n",
       "      <th>battery_temperature_c</th>\n",
       "      <th>...</th>\n",
       "      <th>max_soc_percent</th>\n",
       "      <th>heating_power_can_kw</th>\n",
       "      <th>requested_heating_power_w</th>\n",
       "      <th>aircon_power_kw</th>\n",
       "      <th>heater_signal</th>\n",
       "      <th>heater_voltage_v</th>\n",
       "      <th>heater_current_a</th>\n",
       "      <th>ambient_temperature_c</th>\n",
       "      <th>heat_exchanger_temperature_c</th>\n",
       "      <th>cabin_temperature_sensor_c</th>\n",
       "    </tr>\n",
       "  </thead>\n",
       "  <tbody>\n",
       "    <tr>\n",
       "      <th>count</th>\n",
       "      <td>1.094793e+06</td>\n",
       "      <td>1.094793e+06</td>\n",
       "      <td>1.094793e+06</td>\n",
       "      <td>1.094793e+06</td>\n",
       "      <td>1.094793e+06</td>\n",
       "      <td>1.094793e+06</td>\n",
       "      <td>1.094793e+06</td>\n",
       "      <td>1.094793e+06</td>\n",
       "      <td>1.094793e+06</td>\n",
       "      <td>1.094793e+06</td>\n",
       "      <td>...</td>\n",
       "      <td>1.094793e+06</td>\n",
       "      <td>1.094793e+06</td>\n",
       "      <td>1.094793e+06</td>\n",
       "      <td>1.094793e+06</td>\n",
       "      <td>1.094793e+06</td>\n",
       "      <td>1.094793e+06</td>\n",
       "      <td>1.094793e+06</td>\n",
       "      <td>1.094793e+06</td>\n",
       "      <td>1.094793e+06</td>\n",
       "      <td>1.094793e+06</td>\n",
       "    </tr>\n",
       "    <tr>\n",
       "      <th>mean</th>\n",
       "      <td>1.030379e+03</td>\n",
       "      <td>4.464870e+01</td>\n",
       "      <td>5.322089e+02</td>\n",
       "      <td>2.807981e+01</td>\n",
       "      <td>1.076890e+01</td>\n",
       "      <td>-4.172878e-03</td>\n",
       "      <td>5.211902e-02</td>\n",
       "      <td>3.763793e+02</td>\n",
       "      <td>-1.730302e+01</td>\n",
       "      <td>1.541675e+01</td>\n",
       "      <td>...</td>\n",
       "      <td>8.909071e+01</td>\n",
       "      <td>1.220611e+00</td>\n",
       "      <td>1.183415e+03</td>\n",
       "      <td>1.649602e-01</td>\n",
       "      <td>9.245136e-01</td>\n",
       "      <td>3.598452e+02</td>\n",
       "      <td>3.368359e+00</td>\n",
       "      <td>1.306448e+01</td>\n",
       "      <td>2.897248e+01</td>\n",
       "      <td>2.395951e+01</td>\n",
       "    </tr>\n",
       "    <tr>\n",
       "      <th>std</th>\n",
       "      <td>8.948726e+02</td>\n",
       "      <td>3.535815e+01</td>\n",
       "      <td>4.528273e+01</td>\n",
       "      <td>1.875741e+01</td>\n",
       "      <td>3.480368e+01</td>\n",
       "      <td>6.324723e-01</td>\n",
       "      <td>2.219785e-01</td>\n",
       "      <td>1.185949e+01</td>\n",
       "      <td>4.443506e+01</td>\n",
       "      <td>7.430944e+00</td>\n",
       "      <td>...</td>\n",
       "      <td>6.328844e-01</td>\n",
       "      <td>1.763342e+00</td>\n",
       "      <td>1.783291e+03</td>\n",
       "      <td>3.675939e-01</td>\n",
       "      <td>2.641747e-01</td>\n",
       "      <td>8.011016e+01</td>\n",
       "      <td>4.753991e+00</td>\n",
       "      <td>9.622983e+00</td>\n",
       "      <td>1.588218e+01</td>\n",
       "      <td>4.852177e+00</td>\n",
       "    </tr>\n",
       "    <tr>\n",
       "      <th>min</th>\n",
       "      <td>0.000000e+00</td>\n",
       "      <td>0.000000e+00</td>\n",
       "      <td>4.370000e+02</td>\n",
       "      <td>0.000000e+00</td>\n",
       "      <td>-8.790000e+01</td>\n",
       "      <td>-9.030000e+00</td>\n",
       "      <td>0.000000e+00</td>\n",
       "      <td>3.018000e+02</td>\n",
       "      <td>-4.043800e+02</td>\n",
       "      <td>-1.000000e+00</td>\n",
       "      <td>...</td>\n",
       "      <td>8.800000e+01</td>\n",
       "      <td>0.000000e+00</td>\n",
       "      <td>0.000000e+00</td>\n",
       "      <td>-1.700000e-01</td>\n",
       "      <td>0.000000e+00</td>\n",
       "      <td>0.000000e+00</td>\n",
       "      <td>0.000000e+00</td>\n",
       "      <td>-3.500000e+00</td>\n",
       "      <td>5.000000e+00</td>\n",
       "      <td>1.000000e+01</td>\n",
       "    </tr>\n",
       "    <tr>\n",
       "      <th>25%</th>\n",
       "      <td>3.915000e+02</td>\n",
       "      <td>1.437000e+01</td>\n",
       "      <td>4.871300e+02</td>\n",
       "      <td>1.033000e+01</td>\n",
       "      <td>0.000000e+00</td>\n",
       "      <td>-2.400000e-01</td>\n",
       "      <td>0.000000e+00</td>\n",
       "      <td>3.691300e+02</td>\n",
       "      <td>-3.127000e+01</td>\n",
       "      <td>9.000000e+00</td>\n",
       "      <td>...</td>\n",
       "      <td>8.850000e+01</td>\n",
       "      <td>0.000000e+00</td>\n",
       "      <td>0.000000e+00</td>\n",
       "      <td>0.000000e+00</td>\n",
       "      <td>1.000000e+00</td>\n",
       "      <td>3.273234e+02</td>\n",
       "      <td>0.000000e+00</td>\n",
       "      <td>5.000000e+00</td>\n",
       "      <td>1.250000e+01</td>\n",
       "      <td>2.267120e+01</td>\n",
       "    </tr>\n",
       "    <tr>\n",
       "      <th>50%</th>\n",
       "      <td>8.121000e+02</td>\n",
       "      <td>4.092000e+01</td>\n",
       "      <td>5.309100e+02</td>\n",
       "      <td>3.324000e+01</td>\n",
       "      <td>6.500000e+00</td>\n",
       "      <td>-2.000000e-02</td>\n",
       "      <td>0.000000e+00</td>\n",
       "      <td>3.795100e+02</td>\n",
       "      <td>-1.146000e+01</td>\n",
       "      <td>1.400000e+01</td>\n",
       "      <td>...</td>\n",
       "      <td>8.900000e+01</td>\n",
       "      <td>9.600000e-01</td>\n",
       "      <td>8.800000e+02</td>\n",
       "      <td>0.000000e+00</td>\n",
       "      <td>1.000000e+00</td>\n",
       "      <td>3.690000e+02</td>\n",
       "      <td>2.500000e+00</td>\n",
       "      <td>9.500000e+00</td>\n",
       "      <td>3.450000e+01</td>\n",
       "      <td>2.417000e+01</td>\n",
       "    </tr>\n",
       "    <tr>\n",
       "      <th>75%</th>\n",
       "      <td>1.380900e+03</td>\n",
       "      <td>6.766000e+01</td>\n",
       "      <td>5.672600e+02</td>\n",
       "      <td>4.297499e+01</td>\n",
       "      <td>2.236000e+01</td>\n",
       "      <td>2.000000e-01</td>\n",
       "      <td>0.000000e+00</td>\n",
       "      <td>3.854000e+02</td>\n",
       "      <td>-1.690000e+00</td>\n",
       "      <td>2.100000e+01</td>\n",
       "      <td>...</td>\n",
       "      <td>8.950000e+01</td>\n",
       "      <td>1.480000e+00</td>\n",
       "      <td>1.424700e+03</td>\n",
       "      <td>2.000000e-01</td>\n",
       "      <td>1.000000e+00</td>\n",
       "      <td>3.821600e+02</td>\n",
       "      <td>4.000000e+00</td>\n",
       "      <td>2.150000e+01</td>\n",
       "      <td>4.150000e+01</td>\n",
       "      <td>2.584000e+01</td>\n",
       "    </tr>\n",
       "    <tr>\n",
       "      <th>max</th>\n",
       "      <td>5.610100e+03</td>\n",
       "      <td>1.522600e+02</td>\n",
       "      <td>6.649900e+02</td>\n",
       "      <td>1.352500e+02</td>\n",
       "      <td>2.495000e+02</td>\n",
       "      <td>4.460000e+00</td>\n",
       "      <td>1.000000e+00</td>\n",
       "      <td>3.947585e+02</td>\n",
       "      <td>1.444900e+02</td>\n",
       "      <td>3.200000e+01</td>\n",
       "      <td>...</td>\n",
       "      <td>9.000000e+01</td>\n",
       "      <td>4.004000e+01</td>\n",
       "      <td>3.852775e+04</td>\n",
       "      <td>3.320000e+00</td>\n",
       "      <td>1.000000e+00</td>\n",
       "      <td>1.022960e+03</td>\n",
       "      <td>1.000900e+02</td>\n",
       "      <td>3.350000e+01</td>\n",
       "      <td>6.505000e+01</td>\n",
       "      <td>3.984130e+01</td>\n",
       "    </tr>\n",
       "  </tbody>\n",
       "</table>\n",
       "<p>8 rows × 24 columns</p>\n",
       "</div>"
      ],
      "text/plain": [
       "             time_s  velocity_km_h   elevation_m  throttle_percent  \\\n",
       "count  1.094793e+06   1.094793e+06  1.094793e+06      1.094793e+06   \n",
       "mean   1.030379e+03   4.464870e+01  5.322089e+02      2.807981e+01   \n",
       "std    8.948726e+02   3.535815e+01  4.528273e+01      1.875741e+01   \n",
       "min    0.000000e+00   0.000000e+00  4.370000e+02      0.000000e+00   \n",
       "25%    3.915000e+02   1.437000e+01  4.871300e+02      1.033000e+01   \n",
       "50%    8.121000e+02   4.092000e+01  5.309100e+02      3.324000e+01   \n",
       "75%    1.380900e+03   6.766000e+01  5.672600e+02      4.297499e+01   \n",
       "max    5.610100e+03   1.522600e+02  6.649900e+02      1.352500e+02   \n",
       "\n",
       "       motor_torque_nm  longitudinal_acceleration_m_s2  \\\n",
       "count     1.094793e+06                    1.094793e+06   \n",
       "mean      1.076890e+01                   -4.172878e-03   \n",
       "std       3.480368e+01                    6.324723e-01   \n",
       "min      -8.790000e+01                   -9.030000e+00   \n",
       "25%       0.000000e+00                   -2.400000e-01   \n",
       "50%       6.500000e+00                   -2.000000e-02   \n",
       "75%       2.236000e+01                    2.000000e-01   \n",
       "max       2.495000e+02                    4.460000e+00   \n",
       "\n",
       "       regenerative_braking_signal  battery_voltage_v  battery_current_a  \\\n",
       "count                 1.094793e+06       1.094793e+06       1.094793e+06   \n",
       "mean                  5.211902e-02       3.763793e+02      -1.730302e+01   \n",
       "std                   2.219785e-01       1.185949e+01       4.443506e+01   \n",
       "min                   0.000000e+00       3.018000e+02      -4.043800e+02   \n",
       "25%                   0.000000e+00       3.691300e+02      -3.127000e+01   \n",
       "50%                   0.000000e+00       3.795100e+02      -1.146000e+01   \n",
       "75%                   0.000000e+00       3.854000e+02      -1.690000e+00   \n",
       "max                   1.000000e+00       3.947585e+02       1.444900e+02   \n",
       "\n",
       "       battery_temperature_c  ...  max_soc_percent  heating_power_can_kw  \\\n",
       "count           1.094793e+06  ...     1.094793e+06          1.094793e+06   \n",
       "mean            1.541675e+01  ...     8.909071e+01          1.220611e+00   \n",
       "std             7.430944e+00  ...     6.328844e-01          1.763342e+00   \n",
       "min            -1.000000e+00  ...     8.800000e+01          0.000000e+00   \n",
       "25%             9.000000e+00  ...     8.850000e+01          0.000000e+00   \n",
       "50%             1.400000e+01  ...     8.900000e+01          9.600000e-01   \n",
       "75%             2.100000e+01  ...     8.950000e+01          1.480000e+00   \n",
       "max             3.200000e+01  ...     9.000000e+01          4.004000e+01   \n",
       "\n",
       "       requested_heating_power_w  aircon_power_kw  heater_signal  \\\n",
       "count               1.094793e+06     1.094793e+06   1.094793e+06   \n",
       "mean                1.183415e+03     1.649602e-01   9.245136e-01   \n",
       "std                 1.783291e+03     3.675939e-01   2.641747e-01   \n",
       "min                 0.000000e+00    -1.700000e-01   0.000000e+00   \n",
       "25%                 0.000000e+00     0.000000e+00   1.000000e+00   \n",
       "50%                 8.800000e+02     0.000000e+00   1.000000e+00   \n",
       "75%                 1.424700e+03     2.000000e-01   1.000000e+00   \n",
       "max                 3.852775e+04     3.320000e+00   1.000000e+00   \n",
       "\n",
       "       heater_voltage_v  heater_current_a  ambient_temperature_c  \\\n",
       "count      1.094793e+06      1.094793e+06           1.094793e+06   \n",
       "mean       3.598452e+02      3.368359e+00           1.306448e+01   \n",
       "std        8.011016e+01      4.753991e+00           9.622983e+00   \n",
       "min        0.000000e+00      0.000000e+00          -3.500000e+00   \n",
       "25%        3.273234e+02      0.000000e+00           5.000000e+00   \n",
       "50%        3.690000e+02      2.500000e+00           9.500000e+00   \n",
       "75%        3.821600e+02      4.000000e+00           2.150000e+01   \n",
       "max        1.022960e+03      1.000900e+02           3.350000e+01   \n",
       "\n",
       "       heat_exchanger_temperature_c  cabin_temperature_sensor_c  \n",
       "count                  1.094793e+06                1.094793e+06  \n",
       "mean                   2.897248e+01                2.395951e+01  \n",
       "std                    1.588218e+01                4.852177e+00  \n",
       "min                    5.000000e+00                1.000000e+01  \n",
       "25%                    1.250000e+01                2.267120e+01  \n",
       "50%                    3.450000e+01                2.417000e+01  \n",
       "75%                    4.150000e+01                2.584000e+01  \n",
       "max                    6.505000e+01                3.984130e+01  \n",
       "\n",
       "[8 rows x 24 columns]"
      ]
     },
     "execution_count": 17,
     "metadata": {},
     "output_type": "execute_result"
    }
   ],
   "source": [
    "df.describe()"
   ]
  }
 ],
 "metadata": {
  "kernelspec": {
   "display_name": "Python 3",
   "language": "python",
   "name": "python3"
  },
  "language_info": {
   "codemirror_mode": {
    "name": "ipython",
    "version": 3
   },
   "file_extension": ".py",
   "mimetype": "text/x-python",
   "name": "python",
   "nbconvert_exporter": "python",
   "pygments_lexer": "ipython3",
   "version": "3.11.6"
  }
 },
 "nbformat": 4,
 "nbformat_minor": 2
}
