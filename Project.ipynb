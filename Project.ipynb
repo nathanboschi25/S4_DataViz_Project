{
 "cells": [
  {
   "cell_type": "code",
   "execution_count": 38,
   "metadata": {
    "ExecuteTime": {
     "end_time": "2024-02-26T22:07:47.770154Z",
     "start_time": "2024-02-26T22:07:47.518291Z"
    }
   },
   "outputs": [],
   "source": [
    "from pathlib import Path\n",
    "import pandas as pd\n",
    "import numpy as np\n",
    "\n",
    "path = \"./Measurement Data\""
   ]
  },
  {
   "cell_type": "markdown",
   "metadata": {},
   "source": [
    "# Project\n",
    "\n",
    "## 1. Merge every trip dataset into a global one"
   ]
  },
  {
   "cell_type": "code",
   "execution_count": 39,
   "metadata": {
    "ExecuteTime": {
     "end_time": "2024-02-26T22:07:47.774012Z",
     "start_time": "2024-02-26T22:07:47.771286Z"
    }
   },
   "outputs": [],
   "source": [
    "files = Path(path).rglob(\"*.csv\")"
   ]
  },
  {
   "cell_type": "code",
   "execution_count": 40,
   "metadata": {
    "ExecuteTime": {
     "end_time": "2024-02-26T22:07:47.786042Z",
     "start_time": "2024-02-26T22:07:47.775084Z"
    }
   },
   "outputs": [],
   "source": [
    "def rename_columns(df):\n",
    "\n",
    "    # New column names\n",
    "    new_columns = {\n",
    "        'Time [s]': 'time_s',\n",
    "        'Velocity [km/h]': 'velocity_km_h',\n",
    "        'Velocity [km/h]]]': 'velocity_km_h',\n",
    "        'Elevation [m]': 'elevation_m',\n",
    "        'Throttle [%]': 'throttle_percent',\n",
    "        'Motor Torque [Nm]': 'motor_torque_nm',\n",
    "        'Longitudinal Acceleration [m/s^2]': 'longitudinal_acceleration_m_s2',\n",
    "        'Regenerative Braking Signal ': 'regenerative_braking_signal',\n",
    "        'Battery Voltage [V]': 'battery_voltage_v',\n",
    "        'Battery Current [A]': 'battery_current_a',\n",
    "        'Battery Temperature [°C]': 'battery_temperature_c',\n",
    "        'max. Battery Temperature [°C]': 'max_battery_temperature_c',\n",
    "        'SoC [%]': 'soc_percent',\n",
    "        'displayed SoC [%]': 'displayed_soc_percent',\n",
    "        'min. SoC [%]': 'min_soc_percent',\n",
    "        'max. SoC [%)': 'max_soc_percent',\n",
    "        'Heating Power CAN [kW]': 'heating_power_can_kw',\n",
    "        'Heating Power LIN [W]': 'heating_power_lin_w',\n",
    "        'Requested Heating Power [W]': 'requested_heating_power_w',\n",
    "        'AirCon Power [kW]': 'aircon_power_kw',\n",
    "        'Heater Signal': 'heater_signal',\n",
    "        'Heater Voltage [V]': 'heater_voltage_v',\n",
    "        'Heater Current [A]': 'heater_current_a',\n",
    "        'Ambient Temperature [°C]': 'ambient_temperature_c',\n",
    "        'Coolant Temperature Heatercore [°C]': 'coolant_temperature_heatercore_c',\n",
    "        'Requested Coolant Temperature [°C]': 'requested_coolant_temperature_c',\n",
    "        'Coolant Temperature Inlet [°C]': 'coolant_temperature_inlet_c',\n",
    "        'Heat Exchanger Temperature [°C]': 'heat_exchanger_temperature_c',\n",
    "        'Cabin Temperature Sensor [°C]': 'cabin_temperature_sensor_c',\n",
    "        'Ambient Temperature Sensor [°C]': 'ambient_temperature_sensor_c',\n",
    "        'Coolant Volume Flow +500 [l/h]': 'coolant_volume_flow_plus_500_l_h',\n",
    "        'Temperature Coolant Heater Inlet [°C]': 'temperature_coolant_heater_inlet_c',\n",
    "        'Temperature Coolant Heater Outlet [°C]': 'temperature_coolant_heater_outlet_c',\n",
    "        'Temperature Heat Exchanger Outlet [°C]': 'temperature_heat_exchanger_outlet_c',\n",
    "        'Temperature Defrost lateral left [°C]': 'temperature_defrost_lateral_left_c',\n",
    "        'Temperature Defrost lateral right [°C]': 'temperature_defrost_lateral_right_c',\n",
    "        'Temperature Defrost central [°C]': 'temperature_defrost_central_c',\n",
    "        'Temperature Defrost central left [°C]': 'temperature_defrost_central_left_c',\n",
    "        'Temperature Defrost central right [°C]': 'temperature_defrost_central_right_c',\n",
    "        'Temperature Footweel Driver [°C]': 'temperature_footweel_driver_c',\n",
    "        'Temperature Footweel Co-Driver [°C]': 'temperature_footweel_co_driver_c',\n",
    "        'Temperature Feetvent Co-Driver [°C]': 'temperature_feetvent_co_driver_c',\n",
    "        'Temperature Feetvent Driver [°C]': 'temperature_feetvent_driver_c',\n",
    "        'Temperature Head Co-Driver [°C]': 'temperature_head_co_driver_c',\n",
    "        'Temperature Head Driver [°C]': 'temperature_head_driver_c',\n",
    "        'Temperature Vent right [°C] ': 'temperature_vent_right_c_1',\n",
    "        'Temperature Vent right [°C]': 'temperature_vent_right_c_2',\n",
    "        'Temperature Vent central right [°C]': 'temperature_vent_central_right_c',\n",
    "        'Temperature Vent central left [°C]': 'temperature_vent_central_left_c',\n",
    "    }\n",
    "\n",
    "    # Rename columns\n",
    "    df.rename(columns=new_columns, inplace=True)\n",
    "\n",
    "    # Drop useless columns\n",
    "    df = df.loc[:, ~df.columns.str.contains('^Unnamed')]\n",
    "\n",
    "    return df"
   ]
  },
  {
   "cell_type": "code",
   "execution_count": 41,
   "metadata": {
    "ExecuteTime": {
     "end_time": "2024-02-26T22:07:49.900882Z",
     "start_time": "2024-02-26T22:07:47.787830Z"
    }
   },
   "outputs": [
    {
     "name": "stdout",
     "output_type": "stream",
     "text": [
      "Measurement Data/TripA32.csv  Importing...\n",
      "Measurement Data/TripB02.csv  Importing...\n",
      "Measurement Data/TripA10.csv  Importing...\n",
      "Measurement Data/TripA23.csv  Importing...\n",
      "Measurement Data/TripB24.csv  Importing...\n",
      "Measurement Data/TripB38.csv  Importing...\n",
      "Measurement Data/TripB12.csv  Importing...\n"
     ]
    },
    {
     "name": "stdout",
     "output_type": "stream",
     "text": [
      "Measurement Data/TripB21.csv  Importing...\n",
      "Measurement Data/TripB19.csv  Importing...\n",
      "Measurement Data/TripA12.csv  Importing...\n",
      "Measurement Data/TripB20.csv  Importing...\n",
      "Measurement Data/TripA17.csv  Importing...\n",
      "Measurement Data/TripA13.csv  Importing...\n",
      "Measurement Data/TripA27.csv  Importing...\n",
      "Measurement Data/TripA29.csv  Importing...\n",
      "Measurement Data/TripB32.csv  Importing...\n",
      "Measurement Data/TripB13.csv  Importing...\n",
      "Measurement Data/TripB09.csv  Importing...\n",
      "Measurement Data/TripB10.csv  Importing...\n",
      "Measurement Data/TripB26.csv  Importing...\n",
      "Measurement Data/TripB11.csv  Importing...\n",
      "Measurement Data/TripB17.csv  Importing...\n",
      "Measurement Data/TripA31.csv  Importing...\n",
      "Measurement Data/TripB35.csv  Importing...\n",
      "Measurement Data/TripA20.csv  Importing...\n",
      "Measurement Data/TripB36.csv  Importing...\n",
      "Measurement Data/TripB28.csv  Importing...\n",
      "Measurement Data/TripB30.csv  Importing...\n",
      "Measurement Data/TripA04.csv  Importing...\n",
      "Measurement Data/TripB15.csv  Importing...\n",
      "Measurement Data/TripA14.csv  Importing...\n",
      "Measurement Data/TripB14.csv  Importing...\n",
      "Measurement Data/TripA25.csv  Importing...\n",
      "Measurement Data/TripA11.csv  Importing...\n",
      "Measurement Data/TripB29.csv  Importing...\n",
      "Measurement Data/TripB06.csv  Importing...\n",
      "Measurement Data/TripB22.csv  Importing...\n",
      "Measurement Data/TripB03.csv  Importing...\n",
      "Measurement Data/TripA06.csv  Importing...\n",
      "Measurement Data/TripA30.csv  Importing...\n",
      "Measurement Data/TripA07.csv  Importing...\n",
      "Measurement Data/TripB37.csv  Importing...\n",
      "Measurement Data/TripA21.csv  Importing...\n",
      "Measurement Data/TripB16.csv  Importing...\n",
      "Measurement Data/TripA08.csv  Importing...\n",
      "Measurement Data/TripB01.csv  Importing...\n",
      "Measurement Data/TripB08.csv  Importing...\n",
      "Measurement Data/TripA03.csv  Importing...\n",
      "Measurement Data/TripB31.csv  Importing...\n",
      "Measurement Data/TripA18.csv  Importing...\n",
      "Measurement Data/TripA15.csv  Importing...\n",
      "Measurement Data/TripA16.csv  Importing...\n",
      "Measurement Data/TripB33.csv  Importing...\n",
      "Measurement Data/TripB27.csv  Importing...\n",
      "Measurement Data/TripA24.csv  Importing...\n",
      "Measurement Data/TripB25.csv  Importing...\n",
      "Measurement Data/TripB07.csv  Importing...\n",
      "Measurement Data/TripA26.csv  Importing...\n",
      "Measurement Data/TripA09.csv  Importing...\n",
      "Measurement Data/TripA22.csv  Importing...\n",
      "Measurement Data/TripA05.csv  Importing...\n",
      "Measurement Data/TripA19.csv  Importing...\n",
      "Measurement Data/TripA28.csv  Importing...\n",
      "Measurement Data/TripA02.csv  Importing...\n",
      "Measurement Data/TripB23.csv  Importing...\n",
      "Measurement Data/TripB18.csv  Importing...\n",
      "Measurement Data/TripB05.csv  Importing...\n",
      "Measurement Data/TripB34.csv  Importing...\n",
      "Measurement Data/TripB04.csv  Importing...\n",
      "Measurement Data/TripA01.csv  Importing...\n"
     ]
    }
   ],
   "source": [
    "dfs = list()\n",
    "\n",
    "# Process each file\n",
    "for file in files:\n",
    "    print(file, \" Importing...\")\n",
    "    data = pd.read_csv(file, encoding='ISO-8859-13', delimiter=';')\n",
    "    data['trip_file_name'] = file.stem\n",
    "    data = rename_columns(data)\n",
    "    dfs.append(data)\n",
    "\n",
    "# Concatenate all dataframes\n",
    "df = pd.concat(dfs, ignore_index=True)"
   ]
  },
  {
   "cell_type": "code",
   "execution_count": 42,
   "metadata": {
    "ExecuteTime": {
     "end_time": "2024-02-26T22:08:03.101168Z",
     "start_time": "2024-02-26T22:07:49.902424Z"
    }
   },
   "outputs": [],
   "source": [
    "# Enregistrer le fichier\n",
    "df.to_csv('01_Mergerd.csv', index=False)"
   ]
  },
  {
   "cell_type": "markdown",
   "metadata": {},
   "source": [
    "## 2. Extracting data from the travel_name column\n",
    "The travel_name column contains informations about the trip. We will extract the following information:\n",
    "  - The trip season (A: Summer, B: Winter)\n",
    "  - The trip identification number"
   ]
  },
  {
   "cell_type": "code",
   "execution_count": 43,
   "metadata": {
    "ExecuteTime": {
     "end_time": "2024-02-26T22:08:03.448297Z",
     "start_time": "2024-02-26T22:08:03.102543Z"
    }
   },
   "outputs": [],
   "source": [
    "df['trip_season'] = np.where(df['trip_file_name'].str.contains('A'), 'summer', 'winter')\n",
    "\n",
    "# print(df['trip_season'].value_counts())\n",
    "\n",
    "df['trip_id'] = df['trip_file_name'].str.removeprefix('Trip')\n",
    "\n",
    "# print(df['trip_id'].value_counts())"
   ]
  },
  {
   "cell_type": "markdown",
   "metadata": {},
   "source": [
    "## 3. Handling missing data\n",
    "> The measurement data are divided into two categories. Category A was recorded in summer and does not contain all measured data due to trouble with the measurement system.  Category B was recorded in winter and is consistent. "
   ]
  },
  {
   "cell_type": "code",
   "execution_count": 44,
   "metadata": {
    "ExecuteTime": {
     "end_time": "2024-02-26T22:08:03.688630Z",
     "start_time": "2024-02-26T22:08:03.449291Z"
    }
   },
   "outputs": [
    {
     "name": "stdout",
     "output_type": "stream",
     "text": [
      "requested_coolant_temperature_c         19829\n",
      "soc_percent                             30793\n",
      "min_soc_percent                         30793\n",
      "displayed_soc_percent                   30794\n",
      "max_soc_percent                         30794\n",
      "coolant_temperature_inlet_c            310587\n",
      "heater_current_a                       310587\n",
      "heater_voltage_v                       310587\n",
      "heating_power_lin_w                    310587\n",
      "coolant_temperature_heatercore_c       310587\n",
      "temperature_vent_right_c_2             472340\n",
      "temperature_vent_central_left_c        472340\n",
      "temperature_vent_central_right_c       472340\n",
      "temperature_vent_right_c_1             472340\n",
      "temperature_head_driver_c              472340\n",
      "temperature_head_co_driver_c           472340\n",
      "temperature_feetvent_driver_c          472340\n",
      "temperature_feetvent_co_driver_c       472340\n",
      "temperature_footweel_co_driver_c       472340\n",
      "temperature_defrost_central_right_c    472340\n",
      "temperature_defrost_central_left_c     472340\n",
      "temperature_defrost_central_c          472340\n",
      "temperature_defrost_lateral_right_c    472340\n",
      "temperature_defrost_lateral_left_c     472340\n",
      "temperature_heat_exchanger_outlet_c    472340\n",
      "temperature_coolant_heater_outlet_c    472340\n",
      "temperature_coolant_heater_inlet_c     472340\n",
      "ambient_temperature_sensor_c           472340\n",
      "temperature_footweel_driver_c          472340\n",
      "coolant_volume_flow_plus_500_l_h       496034\n",
      "dtype: int64\n"
     ]
    }
   ],
   "source": [
    "print(df.isnull().sum().sort_values()[df.isnull().sum() > 0])"
   ]
  },
  {
   "cell_type": "markdown",
   "metadata": {},
   "source": [
    "We can choose to:\n",
    "  - Drop columns with missing data\n",
    "  - Drop rows with missing data\n",
    "  - Fill missing data with statistical methods (mean, median, mode, etc.)\n",
    "\n",
    "Drop rows is not a good idea because we will lose a lot of data (all the summer data).\n",
    "\n",
    "The missing data for the \"summer\" trips are mostly precisions about temperatures for the cabin. We can fill them with the global values or forget them and focus on the global cabin data.\n",
    "\n",
    "---\n",
    "### State of Charge (SoC) missing data\n",
    "**For the folowing columns :**\n",
    "- soc_percent\n",
    "- min_soc_percent\n",
    "- displayed_soc_percent\n",
    "- max_soc_percent\n",
    "\n",
    "The missing value occurs only for the first and last occurence of each trip (start and end of the trip). We can fill them with the next (for the first occurence) or previous (for the last occurence) value because we can assume that the SoC (State of Charge) doesn't change during the first and last 0.1s of the trip."
   ]
  },
  {
   "cell_type": "code",
   "execution_count": 45,
   "metadata": {
    "ExecuteTime": {
     "end_time": "2024-02-26T22:08:04.114234Z",
     "start_time": "2024-02-26T22:08:03.689457Z"
    }
   },
   "outputs": [
    {
     "name": "stdout",
     "output_type": "stream",
     "text": [
      "requested_coolant_temperature_c         19829\n",
      "coolant_temperature_inlet_c            310587\n",
      "heater_current_a                       310587\n",
      "heater_voltage_v                       310587\n",
      "heating_power_lin_w                    310587\n",
      "coolant_temperature_heatercore_c       310587\n",
      "temperature_vent_right_c_2             472340\n",
      "temperature_vent_central_left_c        472340\n",
      "temperature_vent_central_right_c       472340\n",
      "temperature_vent_right_c_1             472340\n",
      "temperature_head_driver_c              472340\n",
      "temperature_head_co_driver_c           472340\n",
      "temperature_feetvent_driver_c          472340\n",
      "temperature_feetvent_co_driver_c       472340\n",
      "temperature_footweel_co_driver_c       472340\n",
      "temperature_defrost_central_right_c    472340\n",
      "temperature_defrost_central_left_c     472340\n",
      "temperature_defrost_central_c          472340\n",
      "temperature_defrost_lateral_right_c    472340\n",
      "temperature_defrost_lateral_left_c     472340\n",
      "temperature_heat_exchanger_outlet_c    472340\n",
      "temperature_coolant_heater_outlet_c    472340\n",
      "ambient_temperature_sensor_c           472340\n",
      "temperature_footweel_driver_c          472340\n",
      "temperature_coolant_heater_inlet_c     472340\n",
      "coolant_volume_flow_plus_500_l_h       496034\n",
      "dtype: int64\n"
     ]
    }
   ],
   "source": [
    "# For each trip, fill missing values (for theses columns) with the previous (if exists) or next (if exists) value.\n",
    "\n",
    "df['soc_percent'] = df.groupby('trip_id')['soc_percent'].ffill().bfill()\n",
    "df['min_soc_percent'] = df.groupby('trip_id')['min_soc_percent'].ffill().bfill()\n",
    "df['displayed_soc_percent'] = df.groupby('trip_id')['displayed_soc_percent'].ffill().bfill()\n",
    "df['max_soc_percent'] = df.groupby('trip_id')['max_soc_percent'].ffill().bfill()\n",
    "\n",
    "print(df.isnull().sum().sort_values()[df.isnull().sum() > 0])"
   ]
  },
  {
   "cell_type": "markdown",
   "metadata": {},
   "source": [
    "----\n",
    "### Cabin temperature missing data\n",
    "For the cabin temperatures, we choose to drop the columns because, all these precisions are not relevant for the analysis of the trips. We will focus on the global cabin temperature."
   ]
  },
  {
   "cell_type": "code",
   "execution_count": 46,
   "metadata": {
    "ExecuteTime": {
     "end_time": "2024-02-26T22:08:04.452762Z",
     "start_time": "2024-02-26T22:08:04.115378Z"
    }
   },
   "outputs": [
    {
     "name": "stdout",
     "output_type": "stream",
     "text": [
      "requested_coolant_temperature_c         19829\n",
      "heater_voltage_v                       310587\n",
      "heater_current_a                       310587\n",
      "coolant_temperature_heatercore_c       310587\n",
      "coolant_temperature_inlet_c            310587\n",
      "heating_power_lin_w                    310587\n",
      "ambient_temperature_sensor_c           472340\n",
      "temperature_coolant_heater_inlet_c     472340\n",
      "temperature_coolant_heater_outlet_c    472340\n",
      "temperature_heat_exchanger_outlet_c    472340\n",
      "coolant_volume_flow_plus_500_l_h       496034\n",
      "dtype: int64\n"
     ]
    }
   ],
   "source": [
    "columns_to_drop = [\n",
    "    'temperature_vent_right_c_1',\n",
    "    'temperature_vent_right_c_2',\n",
    "    'temperature_vent_central_left_c',\n",
    "    'temperature_vent_central_right_c',\n",
    "    'temperature_head_driver_c',\n",
    "    'temperature_head_co_driver_c',\n",
    "    'temperature_feetvent_driver_c',\n",
    "    'temperature_feetvent_co_driver_c',\n",
    "    'temperature_footweel_driver_c',\n",
    "    'temperature_footweel_co_driver_c',\n",
    "    'temperature_defrost_central_right_c',\n",
    "    'temperature_defrost_central_left_c',\n",
    "    'temperature_defrost_central_c',\n",
    "    'temperature_defrost_lateral_right_c',\n",
    "    'temperature_defrost_lateral_left_c'\n",
    "]\n",
    "\n",
    "df.drop(columns=columns_to_drop, inplace=True)\n",
    "\n",
    "print(df.isnull().sum().sort_values()[df.isnull().sum() > 0])"
   ]
  },
  {
   "cell_type": "markdown",
   "metadata": {},
   "source": [
    "----\n",
    "### Heating/A.C. missing data\n",
    "For the heater data (current, voltage), we choose to use the mean value for the voltage, and calculate the current with the formula: P = U * I, where P is the power (\"heating_power_can_kw\"), U the voltage and I the current. We can calculate the current with the formula: I = P / U."
   ]
  },
  {
   "cell_type": "code",
   "execution_count": 52,
   "metadata": {},
   "outputs": [
    {
     "name": "stdout",
     "output_type": "stream",
     "text": [
      "coolant_temperature_heatercore_c       310587\n",
      "coolant_temperature_inlet_c            310587\n",
      "temperature_coolant_heater_inlet_c     472340\n",
      "temperature_coolant_heater_outlet_c    472340\n",
      "temperature_heat_exchanger_outlet_c    472340\n",
      "coolant_volume_flow_plus_500_l_h       496034\n",
      "dtype: int64\n"
     ]
    }
   ],
   "source": [
    "# fill missing values with the mean of the column, for the same season\n",
    "df['heater_voltage_v'] = df['heater_voltage_v'].fillna(df.groupby('trip_season')['heater_voltage_v'].transform('mean'))\n",
    "\n",
    "# use I=P/U to calculate the missing values of the heater_current_a\n",
    "df['heater_current_a'] = df['heater_current_a'].fillna((df['heating_power_can_kw'] * 1000) / df['heater_voltage_v'])\n",
    "\n",
    "print(df.isnull().sum().sort_values()[df.isnull().sum() > 0])"
   ]
  },
  {
   "cell_type": "markdown",
   "metadata": {},
   "source": [
    "For the **heating_power_lin_w**, we already have the heating_power_can_kW that is consistent. We can drop the heating_power_lin_w column."
   ]
  },
  {
   "cell_type": "code",
   "execution_count": 48,
   "metadata": {},
   "outputs": [],
   "source": [
    "df.drop(columns=[\"heating_power_lin_w\"], inplace=True)"
   ]
  },
  {
   "cell_type": "markdown",
   "metadata": {},
   "source": [
    "For the **requested_coolant_temperature**, we can't find correlations with other columns, and don't vary during the trips (always at 0, 85 or 215). We think that this column is not relevant for the analysis of the trips. We will drop it."
   ]
  },
  {
   "cell_type": "code",
   "execution_count": 49,
   "metadata": {},
   "outputs": [],
   "source": [
    "df.drop(columns=[\"requested_coolant_temperature_c\"], inplace=True)"
   ]
  },
  {
   "cell_type": "markdown",
   "metadata": {},
   "source": [
    "For **ambiant_temperature_sensor_c**, a column named `ambient_temperature` and it's consistent. We can drop the `ambiant_temperature_sensor_c` column."
   ]
  },
  {
   "cell_type": "code",
   "execution_count": 50,
   "metadata": {},
   "outputs": [],
   "source": [
    "df.drop(columns=[\"ambient_temperature_sensor_c\"], inplace=True)"
   ]
  },
  {
   "cell_type": "markdown",
   "metadata": {},
   "source": [
    "# 4. Colums description\n",
    "## General\n",
    "- 'trip_file_name'\n",
    "- 'trip_id'\n",
    "\n",
    "\n",
    "## Environment\n",
    "- 'time_s',\n",
    "- 'ambient_temperature_c'\n",
    "- 'trip_season'\n",
    "- 'elevation_m'\n",
    "\n",
    "## Longitudinal dynamics and drive train\n",
    "- 'velocity_km_h'\n",
    "- 'longitudinal_acceleration_m_s2'\n",
    "- 'throttle_percent'\n",
    "- 'motor_torque_nm'\n",
    "- 'regenerative_braking_signal'\n",
    "\n",
    "## Battery\n",
    "- 'battery_voltage_v'\n",
    "- 'battery_current_a'\n",
    "- 'battery_temperature_c'\n",
    "- 'max_battery_temperature_c'\n",
    "- 'soc_percent'\n",
    "- 'displayed_soc_percent'\n",
    "- 'min_soc_percent'\n",
    "- 'max_soc_percent'\n",
    "\n",
    "## Cabin\n",
    "- 'cabin_temperature_sensor_c'\n",
    "\n",
    "\n",
    "## High voltage heater\n",
    "- 'heater_signal'\n",
    "- 'heater_voltage_v'\n",
    "- 'heater_current_a'\n",
    "- 'requested_heating_power_w'\n",
    "- 'heating_power_can_kw'\n",
    "- 'temperature_coolant_heater_inlet_c'\n",
    "- 'coolant_temperature_heatercore_c'\n",
    "- 'temperature_coolant_heater_outlet_c'\n",
    "\n",
    "\n",
    "## Auxiliaries\n",
    "### Air conditioning\n",
    "- 'aircon_power_kw'\n",
    "\n",
    "## Other\n",
    "- 'coolant_temperature_inlet_c',\n",
    "- 'heat_exchanger_temperature_c'\n",
    "- 'temperature_heat_exchanger_outlet_c'\n",
    "- 'coolant_volume_flow_plus_500_l_h'\n",
    "\n",
    "![UML](image.png)"
   ]
  }
 ],
 "metadata": {
  "kernelspec": {
   "display_name": "Python 3",
   "language": "python",
   "name": "python3"
  },
  "language_info": {
   "codemirror_mode": {
    "name": "ipython",
    "version": 3
   },
   "file_extension": ".py",
   "mimetype": "text/x-python",
   "name": "python",
   "nbconvert_exporter": "python",
   "pygments_lexer": "ipython3",
   "version": "3.11.6"
  }
 },
 "nbformat": 4,
 "nbformat_minor": 2
}
